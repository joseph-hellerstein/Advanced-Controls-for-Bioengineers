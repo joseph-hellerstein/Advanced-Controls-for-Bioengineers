{
 "cells": [
  {
   "cell_type": "markdown",
   "id": "af9431ef-fcd8-44d8-b080-4f29c8cd44ed",
   "metadata": {},
   "source": [
    "# PYTHON CONTROL LIBRARY"
   ]
  },
  {
   "cell_type": "markdown",
   "id": "a955d1df-7bda-4811-86f0-0b9b569c6e2f",
   "metadata": {},
   "source": [
    "This notebook is an exploration of key elements of the control library."
   ]
  },
  {
   "cell_type": "markdown",
   "id": "1ce7b0bf-244a-481d-ac86-4a6685de0e70",
   "metadata": {},
   "source": [
    "# Preliminaries"
   ]
  },
  {
   "cell_type": "code",
   "execution_count": 2,
   "id": "fcba2180-5a97-4d92-9dc2-dc824c5b07e2",
   "metadata": {},
   "outputs": [],
   "source": [
    "import numpy as np\n",
    "import pandas as pd\n",
    "import tellurium as te\n",
    "import control as c\n",
    "import matplotlib.pyplot as plt"
   ]
  },
  {
   "cell_type": "markdown",
   "id": "75706d2f-8a76-459c-a4d6-2392257d433f",
   "metadata": {},
   "source": [
    "# Basics"
   ]
  },
  {
   "cell_type": "code",
   "execution_count": 9,
   "id": "cc3aeca3-c447-42f4-975d-a103478483f0",
   "metadata": {},
   "outputs": [
    {
     "data": {
      "text/latex": [
       "\\[\n",
       "\\left(\\begin{array}{rllrll|rll}\n",
       "1\\phantom{.}&\\hspace{-1em}&\\hspace{-1em}\\phantom{\\cdot}&0\\phantom{.}&\\hspace{-1em}&\\hspace{-1em}\\phantom{\\cdot}&1\\phantom{.}&\\hspace{-1em}&\\hspace{-1em}\\phantom{\\cdot}\\\\\n",
       "0\\phantom{.}&\\hspace{-1em}&\\hspace{-1em}\\phantom{\\cdot}&1\\phantom{.}&\\hspace{-1em}&\\hspace{-1em}\\phantom{\\cdot}&0\\phantom{.}&\\hspace{-1em}&\\hspace{-1em}\\phantom{\\cdot}\\\\\n",
       "\\hline\n",
       "1\\phantom{.}&\\hspace{-1em}&\\hspace{-1em}\\phantom{\\cdot}&1\\phantom{.}&\\hspace{-1em}&\\hspace{-1em}\\phantom{\\cdot}&0\\phantom{.}&\\hspace{-1em}&\\hspace{-1em}\\phantom{\\cdot}\\\\\n",
       "\\end{array}\\right)\n",
       "\\]"
      ],
      "text/plain": [
       "StateSpace(array([[1., 0.],\n",
       "       [0., 1.]]), array([[1.],\n",
       "       [0.]]), array([[1., 1.]]), array([[0.]]))"
      ]
     },
     "execution_count": 9,
     "metadata": {},
     "output_type": "execute_result"
    }
   ],
   "source": [
    "# Simple system\n",
    "A = np.identity(2)\n",
    "B = np.reshape(np.array([1, 0]), (2,1))\n",
    "C = np.reshape(np.array([1, 1]), (1, 2))\n",
    "D = 0\n",
    "sys = c.StateSpace(A, B, C, D)\n",
    "sys"
   ]
  }
 ],
 "metadata": {
  "kernelspec": {
   "display_name": "Python 3",
   "language": "python",
   "name": "python3"
  },
  "language_info": {
   "codemirror_mode": {
    "name": "ipython",
    "version": 3
   },
   "file_extension": ".py",
   "mimetype": "text/x-python",
   "name": "python",
   "nbconvert_exporter": "python",
   "pygments_lexer": "ipython3",
   "version": "3.6.4"
  }
 },
 "nbformat": 4,
 "nbformat_minor": 5
}
