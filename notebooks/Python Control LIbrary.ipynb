{
 "cells": [
  {
   "cell_type": "markdown",
   "id": "af9431ef-fcd8-44d8-b080-4f29c8cd44ed",
   "metadata": {},
   "source": [
    "# PYTHON CONTROL LIBRARY"
   ]
  },
  {
   "cell_type": "markdown",
   "id": "a955d1df-7bda-4811-86f0-0b9b569c6e2f",
   "metadata": {},
   "source": [
    "This notebook is an exploration of key elements of the control library."
   ]
  },
  {
   "cell_type": "markdown",
   "id": "1ce7b0bf-244a-481d-ac86-4a6685de0e70",
   "metadata": {},
   "source": [
    "# Preliminaries"
   ]
  },
  {
   "cell_type": "code",
   "execution_count": 2,
   "id": "fcba2180-5a97-4d92-9dc2-dc824c5b07e2",
   "metadata": {},
   "outputs": [],
   "source": [
    "import numpy as np\n",
    "import pandas as pd\n",
    "import tellurium as te\n",
    "import control as c\n",
    "import matplotlib.pyplot as plt"
   ]
  },
  {
   "cell_type": "markdown",
   "id": "75706d2f-8a76-459c-a4d6-2392257d433f",
   "metadata": {},
   "source": [
    "# Basics"
   ]
  },
  {
   "cell_type": "code",
   "execution_count": 21,
   "id": "cc3aeca3-c447-42f4-975d-a103478483f0",
   "metadata": {},
   "outputs": [
    {
     "data": {
      "text/latex": [
       "\\[\n",
       "\\left(\\begin{array}{rllrll|rll}\n",
       "-0.&\\hspace{-1em}7&\\hspace{-1em}\\phantom{\\cdot}&-0\\phantom{.}&\\hspace{-1em}&\\hspace{-1em}\\phantom{\\cdot}&1\\phantom{.}&\\hspace{-1em}&\\hspace{-1em}\\phantom{\\cdot}\\\\\n",
       "-0\\phantom{.}&\\hspace{-1em}&\\hspace{-1em}\\phantom{\\cdot}&-0.&\\hspace{-1em}7&\\hspace{-1em}\\phantom{\\cdot}&0\\phantom{.}&\\hspace{-1em}&\\hspace{-1em}\\phantom{\\cdot}\\\\\n",
       "\\hline\n",
       "1\\phantom{.}&\\hspace{-1em}&\\hspace{-1em}\\phantom{\\cdot}&1\\phantom{.}&\\hspace{-1em}&\\hspace{-1em}\\phantom{\\cdot}&0\\phantom{.}&\\hspace{-1em}&\\hspace{-1em}\\phantom{\\cdot}\\\\\n",
       "\\end{array}\\right)\n",
       "\\]"
      ],
      "text/plain": [
       "StateSpace(array([[-0.7, -0. ],\n",
       "       [-0. , -0.7]]), array([[1.],\n",
       "       [0.]]), array([[1., 1.]]), array([[0.]]))"
      ]
     },
     "execution_count": 21,
     "metadata": {},
     "output_type": "execute_result"
    }
   ],
   "source": [
    "# Simple system\n",
    "A = -0.7*np.identity(2)\n",
    "B = np.reshape(np.array([1, 0]), (2,1))\n",
    "C = np.reshape(np.array([1, 1]), (1, 2))\n",
    "D = 0\n",
    "sys = c.StateSpace(A, B, C, D)\n",
    "sys"
   ]
  },
  {
   "cell_type": "code",
   "execution_count": 25,
   "id": "a573b976-6134-479c-8804-67e3ff582df4",
   "metadata": {},
   "outputs": [
    {
     "data": {
      "text/plain": [
       "array([[-1.42857143, -0.        ],\n",
       "       [-0.        , -0.        ]])"
      ]
     },
     "execution_count": 25,
     "metadata": {},
     "output_type": "execute_result"
    }
   ],
   "source": [
    "np.linalg.inv(A)*B"
   ]
  },
  {
   "cell_type": "code",
   "execution_count": 10,
   "id": "05d4cdbe-bd71-4d8f-b00c-1509aaf316ce",
   "metadata": {},
   "outputs": [
    {
     "data": {
      "text/latex": [
       "\\[\n",
       "\\left(\\begin{array}{rllrllrllrll|rll}\n",
       "1\\phantom{.}&\\hspace{-1em}&\\hspace{-1em}\\phantom{\\cdot}&0\\phantom{.}&\\hspace{-1em}&\\hspace{-1em}\\phantom{\\cdot}&0\\phantom{.}&\\hspace{-1em}&\\hspace{-1em}\\phantom{\\cdot}&0\\phantom{.}&\\hspace{-1em}&\\hspace{-1em}\\phantom{\\cdot}&1\\phantom{.}&\\hspace{-1em}&\\hspace{-1em}\\phantom{\\cdot}\\\\\n",
       "0\\phantom{.}&\\hspace{-1em}&\\hspace{-1em}\\phantom{\\cdot}&1\\phantom{.}&\\hspace{-1em}&\\hspace{-1em}\\phantom{\\cdot}&0\\phantom{.}&\\hspace{-1em}&\\hspace{-1em}\\phantom{\\cdot}&0\\phantom{.}&\\hspace{-1em}&\\hspace{-1em}\\phantom{\\cdot}&0\\phantom{.}&\\hspace{-1em}&\\hspace{-1em}\\phantom{\\cdot}\\\\\n",
       "1\\phantom{.}&\\hspace{-1em}&\\hspace{-1em}\\phantom{\\cdot}&1\\phantom{.}&\\hspace{-1em}&\\hspace{-1em}\\phantom{\\cdot}&1\\phantom{.}&\\hspace{-1em}&\\hspace{-1em}\\phantom{\\cdot}&0\\phantom{.}&\\hspace{-1em}&\\hspace{-1em}\\phantom{\\cdot}&0\\phantom{.}&\\hspace{-1em}&\\hspace{-1em}\\phantom{\\cdot}\\\\\n",
       "0\\phantom{.}&\\hspace{-1em}&\\hspace{-1em}\\phantom{\\cdot}&0\\phantom{.}&\\hspace{-1em}&\\hspace{-1em}\\phantom{\\cdot}&0\\phantom{.}&\\hspace{-1em}&\\hspace{-1em}\\phantom{\\cdot}&1\\phantom{.}&\\hspace{-1em}&\\hspace{-1em}\\phantom{\\cdot}&0\\phantom{.}&\\hspace{-1em}&\\hspace{-1em}\\phantom{\\cdot}\\\\\n",
       "\\hline\n",
       "0\\phantom{.}&\\hspace{-1em}&\\hspace{-1em}\\phantom{\\cdot}&0\\phantom{.}&\\hspace{-1em}&\\hspace{-1em}\\phantom{\\cdot}&1\\phantom{.}&\\hspace{-1em}&\\hspace{-1em}\\phantom{\\cdot}&1\\phantom{.}&\\hspace{-1em}&\\hspace{-1em}\\phantom{\\cdot}&0\\phantom{.}&\\hspace{-1em}&\\hspace{-1em}\\phantom{\\cdot}\\\\\n",
       "\\end{array}\\right)\n",
       "\\]"
      ],
      "text/plain": [
       "StateSpace(array([[1., 0., 0., 0.],\n",
       "       [0., 1., 0., 0.],\n",
       "       [1., 1., 1., 0.],\n",
       "       [0., 0., 0., 1.]]), array([[1.],\n",
       "       [0.],\n",
       "       [0.],\n",
       "       [0.]]), array([[0., 0., 1., 1.]]), array([[0.]]))"
      ]
     },
     "execution_count": 10,
     "metadata": {},
     "output_type": "execute_result"
    }
   ],
   "source": [
    "# Does this look right?\n",
    "c.series(sys, sys)\n"
   ]
  },
  {
   "cell_type": "code",
   "execution_count": 11,
   "id": "10640e0b-7be7-44ff-91df-4c65b7347a56",
   "metadata": {},
   "outputs": [
    {
     "data": {
      "text/latex": [
       "\\[\n",
       "\\left(\\begin{array}{rllrllrllrll|rll}\n",
       "1\\phantom{.}&\\hspace{-1em}&\\hspace{-1em}\\phantom{\\cdot}&0\\phantom{.}&\\hspace{-1em}&\\hspace{-1em}\\phantom{\\cdot}&0\\phantom{.}&\\hspace{-1em}&\\hspace{-1em}\\phantom{\\cdot}&0\\phantom{.}&\\hspace{-1em}&\\hspace{-1em}\\phantom{\\cdot}&1\\phantom{.}&\\hspace{-1em}&\\hspace{-1em}\\phantom{\\cdot}\\\\\n",
       "0\\phantom{.}&\\hspace{-1em}&\\hspace{-1em}\\phantom{\\cdot}&1\\phantom{.}&\\hspace{-1em}&\\hspace{-1em}\\phantom{\\cdot}&0\\phantom{.}&\\hspace{-1em}&\\hspace{-1em}\\phantom{\\cdot}&0\\phantom{.}&\\hspace{-1em}&\\hspace{-1em}\\phantom{\\cdot}&0\\phantom{.}&\\hspace{-1em}&\\hspace{-1em}\\phantom{\\cdot}\\\\\n",
       "0\\phantom{.}&\\hspace{-1em}&\\hspace{-1em}\\phantom{\\cdot}&0\\phantom{.}&\\hspace{-1em}&\\hspace{-1em}\\phantom{\\cdot}&1\\phantom{.}&\\hspace{-1em}&\\hspace{-1em}\\phantom{\\cdot}&0\\phantom{.}&\\hspace{-1em}&\\hspace{-1em}\\phantom{\\cdot}&1\\phantom{.}&\\hspace{-1em}&\\hspace{-1em}\\phantom{\\cdot}\\\\\n",
       "0\\phantom{.}&\\hspace{-1em}&\\hspace{-1em}\\phantom{\\cdot}&0\\phantom{.}&\\hspace{-1em}&\\hspace{-1em}\\phantom{\\cdot}&0\\phantom{.}&\\hspace{-1em}&\\hspace{-1em}\\phantom{\\cdot}&1\\phantom{.}&\\hspace{-1em}&\\hspace{-1em}\\phantom{\\cdot}&0\\phantom{.}&\\hspace{-1em}&\\hspace{-1em}\\phantom{\\cdot}\\\\\n",
       "\\hline\n",
       "1\\phantom{.}&\\hspace{-1em}&\\hspace{-1em}\\phantom{\\cdot}&1\\phantom{.}&\\hspace{-1em}&\\hspace{-1em}\\phantom{\\cdot}&1\\phantom{.}&\\hspace{-1em}&\\hspace{-1em}\\phantom{\\cdot}&1\\phantom{.}&\\hspace{-1em}&\\hspace{-1em}\\phantom{\\cdot}&0\\phantom{.}&\\hspace{-1em}&\\hspace{-1em}\\phantom{\\cdot}\\\\\n",
       "\\end{array}\\right)\n",
       "\\]"
      ],
      "text/plain": [
       "StateSpace(array([[1., 0., 0., 0.],\n",
       "       [0., 1., 0., 0.],\n",
       "       [0., 0., 1., 0.],\n",
       "       [0., 0., 0., 1.]]), array([[1.],\n",
       "       [0.],\n",
       "       [1.],\n",
       "       [0.]]), array([[1., 1., 1., 1.]]), array([[0.]]))"
      ]
     },
     "execution_count": 11,
     "metadata": {},
     "output_type": "execute_result"
    }
   ],
   "source": [
    "c.parallel(sys, sys)"
   ]
  },
  {
   "cell_type": "code",
   "execution_count": 12,
   "id": "259fe797-9a18-4ba5-9a1b-8eb57a10eba1",
   "metadata": {},
   "outputs": [
    {
     "data": {
      "text/latex": [
       "\\[\n",
       "\\left(\\begin{array}{rllrll|rll}\n",
       "0\\phantom{.}&\\hspace{-1em}&\\hspace{-1em}\\phantom{\\cdot}&-1\\phantom{.}&\\hspace{-1em}&\\hspace{-1em}\\phantom{\\cdot}&1\\phantom{.}&\\hspace{-1em}&\\hspace{-1em}\\phantom{\\cdot}\\\\\n",
       "0\\phantom{.}&\\hspace{-1em}&\\hspace{-1em}\\phantom{\\cdot}&1\\phantom{.}&\\hspace{-1em}&\\hspace{-1em}\\phantom{\\cdot}&0\\phantom{.}&\\hspace{-1em}&\\hspace{-1em}\\phantom{\\cdot}\\\\\n",
       "\\hline\n",
       "1\\phantom{.}&\\hspace{-1em}&\\hspace{-1em}\\phantom{\\cdot}&1\\phantom{.}&\\hspace{-1em}&\\hspace{-1em}\\phantom{\\cdot}&0\\phantom{.}&\\hspace{-1em}&\\hspace{-1em}\\phantom{\\cdot}\\\\\n",
       "\\end{array}\\right)\n",
       "\\]"
      ],
      "text/plain": [
       "StateSpace(array([[ 0., -1.],\n",
       "       [ 0.,  1.]]), array([[1.],\n",
       "       [0.]]), array([[1., 1.]]), array([[0.]]))"
      ]
     },
     "execution_count": 12,
     "metadata": {},
     "output_type": "execute_result"
    }
   ],
   "source": [
    "c.feedback(sys)"
   ]
  },
  {
   "cell_type": "code",
   "execution_count": 13,
   "id": "eaeb299f-f685-44af-8f6d-f67e6f2a885b",
   "metadata": {},
   "outputs": [
    {
     "data": {
      "text/latex": [
       "$$\\frac{s - 1}{s^2 - 2 s + 1}$$"
      ],
      "text/plain": [
       "TransferFunction(array([ 1., -1.]), array([ 1., -2.,  1.]))"
      ]
     },
     "execution_count": 13,
     "metadata": {},
     "output_type": "execute_result"
    }
   ],
   "source": [
    "c.ss2tf(sys)"
   ]
  },
  {
   "cell_type": "code",
   "execution_count": 22,
   "id": "7536faa3-044a-4ade-b5cf-c3b1c172151b",
   "metadata": {},
   "outputs": [
    {
     "data": {
      "text/plain": [
       "[<matplotlib.lines.Line2D at 0x7f53850c4f98>]"
      ]
     },
     "execution_count": 22,
     "metadata": {},
     "output_type": "execute_result"
    },
    {
     "data": {
      "image/png": "[encoded data removed]",
      "text/plain": [
       "<Figure size 432x288 with 1 Axes>"
      ]
     },
     "metadata": {
      "needs_background": "light"
     },
     "output_type": "display_data"
    }
   ],
   "source": [
    "t = c.step_response(sys)\n",
    "plt.plot(t.time, t.outputs)"
   ]
  },
  {
   "cell_type": "markdown",
   "id": "a895b896-6dcb-44a1-a1bd-12e3f4ab6815",
   "metadata": {},
   "source": [
    "# Create Nonlinear System"
   ]
  },
  {
   "cell_type": "code",
   "execution_count": 26,
   "id": "d29ed40f-decf-495c-a280-63ac7e21f171",
   "metadata": {},
   "outputs": [],
   "source": [
    "def predprey_rhs(t, x, u, params):\n",
    "    # Parameter setup\n",
    "    a = params.get('a', 3.2)\n",
    "    b = params.get('b', 0.6)\n",
    "    c = params.get('c', 50.)\n",
    "    d = params.get('d', 0.56)\n",
    "    k = params.get('k', 125)\n",
    "    r = params.get('r', 1.6)\n",
    "\n",
    "    # Map the states into local variable names\n",
    "    H = x[0]\n",
    "    L = x[1]\n",
    "\n",
    "    # Compute the control action (only allow addition of food)\n",
    "    u_0 = u if u > 0 else 0\n",
    "\n",
    "    # Compute the discrete updates\n",
    "    dH = (r + u_0) * H * (1 - H/k) - (a * H * L)/(c + H)\n",
    "    dL = b * (a * H *  L)/(c + H) - d * L\n",
    "\n",
    "    return [dH, dL]"
   ]
  },
  {
   "cell_type": "code",
   "execution_count": 27,
   "id": "daf7b961-b21a-451e-92c5-8765a2a4e409",
   "metadata": {},
   "outputs": [],
   "source": [
    "io_predprey = c.NonlinearIOSystem(\n",
    "    predprey_rhs, None, inputs=('u'), outputs=('H', 'L'),\n",
    "    states=('H', 'L'), name='predprey')"
   ]
  },
  {
   "cell_type": "code",
   "execution_count": 30,
   "id": "7d957418-5182-4183-9385-0863c4c79850",
   "metadata": {},
   "outputs": [],
   "source": [
    "timev = list(range(10))\n",
    "inputv = np.repeat(1, len(timev))\n",
    "X0 = [5, 5]\n",
    "t, y = c.input_output_response(io_predprey, timev, inputv, X0, {})"
   ]
  },
  {
   "cell_type": "code",
   "execution_count": 31,
   "id": "41d1ee78-2b34-4e5c-8d0d-bb3c68c76fcb",
   "metadata": {},
   "outputs": [
    {
     "data": {
      "text/plain": [
       "[(0,\n",
       "  array([  5.        ,  37.95216684,  99.55348089, 110.95292882,\n",
       "          98.5867469 ,  67.85585067,  19.86812571,   2.46745573,\n",
       "           1.14593559,   2.05224533])),\n",
       " (1,\n",
       "  array([ 5.        ,  4.52389506,  7.8342813 , 16.65608212, 35.06939509,\n",
       "         66.93242859, 91.46188532, 67.50732493, 40.79367961, 24.57910553]))]"
      ]
     },
     "execution_count": 31,
     "metadata": {},
     "output_type": "execute_result"
    }
   ],
   "source": [
    "[(tv, ty) for tv, ty in zip(t, y)]"
   ]
  },
  {
   "cell_type": "code",
   "execution_count": 44,
   "id": "4638babe-5545-49d0-8866-d2adb564f068",
   "metadata": {},
   "outputs": [
    {
     "data": {
      "text/plain": [
       "<matplotlib.legend.Legend at 0x7f5384b07278>"
      ]
     },
     "execution_count": 44,
     "metadata": {},
     "output_type": "execute_result"
    },
    {
     "data": {
      "image/png": "[encoded data removed]",
      "text/plain": [
       "<Figure size 432x288 with 1 Axes>"
      ]
     },
     "metadata": {
      "needs_background": "light"
     },
     "output_type": "display_data"
    }
   ],
   "source": [
    "_, ax = plt.subplots(1)\n",
    "ax.plot(t, y[0], c=\"red\")\n",
    "ax.plot(t, y[1], c=\"blue\")\n",
    "ax.legend([\"x_0\", \"x_1\"])"
   ]
  },
  {
   "cell_type": "markdown",
   "id": "c299383a-47ff-49f0-b743-00d8d6781477",
   "metadata": {},
   "source": [
    "# Antimony Simulation as a Nonlinear System"
   ]
  },
  {
   "cell_type": "code",
   "execution_count": 45,
   "id": "84e85505-3ecd-4e2a-8af9-cb6245033154",
   "metadata": {},
   "outputs": [
    {
     "data": {
      "image/png": "[encoded data removed]",
      "text/plain": [
       "<Figure size 432x288 with 1 Axes>"
      ]
     },
     "metadata": {},
     "output_type": "display_data"
    }
   ],
   "source": [
    "MODEL = \"\"\"\n",
    "-> S1; k1\n",
    "S1 -> S2; k2*S1\n",
    "S2 -> S3; k3*S2\n",
    "\n",
    "k1 = 1\n",
    "k2 = 1\n",
    "k3 = 1\n",
    "S1 = 0\n",
    "S2 = 0\n",
    "S3 = 0\n",
    "\"\"\"\n",
    "rr = te.loada(MODEL)\n",
    "data = rr.simulate()\n",
    "rr.plot()"
   ]
  },
  {
   "cell_type": "code",
   "execution_count": 5,
   "id": "39c08001-1469-4778-a530-9cf2f3f1eaa6",
   "metadata": {},
   "outputs": [
    {
     "ename": "KeyError",
     "evalue": "'k1'",
     "output_type": "error",
     "traceback": [
      "\u001b[0;31m---------------------------------------------------------------------------\u001b[0m",
      "\u001b[0;31mKeyError\u001b[0m                                  Traceback (most recent call last)",
      "\u001b[0;32m<ipython-input-5-41c7e0493379>\u001b[0m in \u001b[0;36m<module>\u001b[0;34m\u001b[0m\n\u001b[1;32m     22\u001b[0m \u001b[0;31m# Tests\u001b[0m\u001b[0;34m\u001b[0m\u001b[0;34m\u001b[0m\u001b[0m\n\u001b[1;32m     23\u001b[0m \u001b[0mparams\u001b[0m \u001b[0;34m=\u001b[0m \u001b[0;34m{\u001b[0m\u001b[0;34m\"k1\"\u001b[0m\u001b[0;34m:\u001b[0m \u001b[0;36m1.0\u001b[0m\u001b[0;34m,\u001b[0m \u001b[0;34m\"k2\"\u001b[0m\u001b[0;34m:\u001b[0m \u001b[0;36m1.0\u001b[0m\u001b[0;34m,\u001b[0m \u001b[0;34m\"k3\"\u001b[0m\u001b[0;34m:\u001b[0m \u001b[0;36m1.0\u001b[0m\u001b[0;34m}\u001b[0m\u001b[0;34m\u001b[0m\u001b[0m\n\u001b[0;32m---> 24\u001b[0;31m \u001b[0mresult\u001b[0m \u001b[0;34m=\u001b[0m \u001b[0mlinear_pathway_rhs\u001b[0m\u001b[0;34m(\u001b[0m\u001b[0;36m0\u001b[0m\u001b[0;34m,\u001b[0m \u001b[0;32mNone\u001b[0m\u001b[0;34m,\u001b[0m \u001b[0;32mNone\u001b[0m\u001b[0;34m,\u001b[0m \u001b[0mparams\u001b[0m\u001b[0;34m)\u001b[0m\u001b[0;34m\u001b[0m\u001b[0m\n\u001b[0m\u001b[1;32m     25\u001b[0m \u001b[0mresult\u001b[0m\u001b[0;34m\u001b[0m\u001b[0m\n",
      "\u001b[0;32m<ipython-input-5-41c7e0493379>\u001b[0m in \u001b[0;36mlinear_pathway_rhs\u001b[0;34m(time, states, inputs, params)\u001b[0m\n\u001b[1;32m     14\u001b[0m \u001b[0;34m\u001b[0m\u001b[0m\n\u001b[1;32m     15\u001b[0m     \u001b[0;31m# Compute derivates of state\u001b[0m\u001b[0;34m\u001b[0m\u001b[0;34m\u001b[0m\u001b[0m\n\u001b[0;32m---> 16\u001b[0;31m     \u001b[0mdS1\u001b[0m \u001b[0;34m=\u001b[0m \u001b[0mk1\u001b[0m \u001b[0;34m*\u001b[0m \u001b[0mstate_dct\u001b[0m\u001b[0;34m[\u001b[0m\u001b[0;34m\"k1\"\u001b[0m\u001b[0;34m]\u001b[0m\u001b[0;34m\u001b[0m\u001b[0m\n\u001b[0m\u001b[1;32m     17\u001b[0m     \u001b[0mdS2\u001b[0m \u001b[0;34m=\u001b[0m \u001b[0mk2\u001b[0m \u001b[0;34m*\u001b[0m \u001b[0mstate_dct\u001b[0m\u001b[0;34m[\u001b[0m\u001b[0;34m\"k2\"\u001b[0m\u001b[0;34m]\u001b[0m\u001b[0;34m\u001b[0m\u001b[0m\n\u001b[1;32m     18\u001b[0m     \u001b[0mdS3\u001b[0m \u001b[0;34m=\u001b[0m \u001b[0mk3\u001b[0m \u001b[0;34m*\u001b[0m \u001b[0mstate_dct\u001b[0m\u001b[0;34m[\u001b[0m\u001b[0;34m\"k3\"\u001b[0m\u001b[0;34m]\u001b[0m\u001b[0;34m\u001b[0m\u001b[0m\n",
      "\u001b[0;31mKeyError\u001b[0m: 'k1'"
     ]
    }
   ],
   "source": [
    "# Differential equation for states S1, S2, S3\n",
    "def linear_pathway_rhs(time, states, inputs, params):\n",
    "    STATES = [\"S1\", \"S2\", \"S3\"]\n",
    "    # Parameter setup\n",
    "    k1 = params.get('k1', 1.0)\n",
    "    k2 = params.get('k2', 1.0)\n",
    "    k3 = params.get('k3', 1.0)\n",
    "\n",
    "    # Set values for states, considering initial conditions\n",
    "    if (time == 0) or (states is None):\n",
    "        state_dct = {n: 0 for n in range(len(STATES))}\n",
    "    else:\n",
    "        state_dct = {\"k%d\": states[n] + 1 for n in range(len(states))}\n",
    "        \n",
    "    # Compute derivates of state\n",
    "    dS1 = k1 * state_dct[\"k1\"]\n",
    "    dS2 = k2 * state_dct[\"k2\"]\n",
    "    dS3 = k3 * state_dct[\"k3\"]\n",
    "\n",
    "    return [dS1, dS2, dS3]\n",
    "\n",
    "# Tests\n",
    "params = {\"k1\": 1.0, \"k2\": 1.0, \"k3\": 1.0}\n",
    "result = linear_pathway_rhs(0, None, None, params)\n",
    "result"
   ]
  }
 ],
 "metadata": {
  "kernelspec": {
   "display_name": "Python 3",
   "language": "python",
   "name": "python3"
  },
  "language_info": {
   "codemirror_mode": {
    "name": "ipython",
    "version": 3
   },
   "file_extension": ".py",
   "mimetype": "text/x-python",
   "name": "python",
   "nbconvert_exporter": "python",
   "pygments_lexer": "ipython3",
   "version": "3.6.4"
  }
 },
 "nbformat": 4,
 "nbformat_minor": 5
}
